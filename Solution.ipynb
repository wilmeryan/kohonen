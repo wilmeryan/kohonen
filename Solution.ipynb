{
 "cells": [
  {
   "cell_type": "markdown",
   "metadata": {},
   "source": [
    "# SOM Kohonen Network\n",
    "\n",
    "After reading the spec and understanding the problem, optimization is definitely important consideration. I want to strike a balance optimizing too early (\"premature optimization is the root of all evil\") and accululating technical debt. \n",
    "\n",
    "Doing a code profile with cProfile would tell us what the most important functions to optimize (we can consder the 80 20 rule here). \n",
    "\n",
    "My approach was to implement the internal SOM functions with vectorized numpy  operations and see what optimizations can be done from there. We can easily use Numba to optimize numpy and multiprocessing if needed.  However, I also do not want to sacrifice readability or maintanability."
   ]
  },
  {
   "cell_type": "code",
   "execution_count": 1,
   "metadata": {},
   "outputs": [],
   "source": [
    "import numpy as np\n",
    "import matplotlib.pyplot as plt\n",
    "from tqdm import tqdm\n",
    "from numba import jit, prange"
   ]
  },
  {
   "cell_type": "code",
   "execution_count": 2,
   "metadata": {},
   "outputs": [],
   "source": [
    "# create test inputs\n",
    "\n",
    "INPUT_DIM = 3\n",
    "TEST_INPUT_1 = np.arange(0, INPUT_DIM).reshape((1,-1))\n",
    "TEST_INPUT_2 = np.arange(1, INPUT_DIM+1)\n",
    "TEST_INPUT_3 = np.arange(2, INPUT_DIM+2)"
   ]
  },
  {
   "cell_type": "code",
   "execution_count": 3,
   "metadata": {},
   "outputs": [],
   "source": [
    "MAT_SIZE= (100, 100)\n",
    "\n",
    "res = np.zeros(MAT_SIZE)\n",
    "mat = np.random.random((MAT_SIZE[0], MAT_SIZE[1], INPUT_DIM))"
   ]
  },
  {
   "cell_type": "markdown",
   "metadata": {},
   "source": [
    "## Firstly write and test a few functions\n",
    "\n",
    "We want to later write these functions into a class, but it is easier to prototype normal functions first. We don't want to spend too much time optimizing here first. But we do want to gauge how much speed up we get from for-loops (optimised by numba/jit), vectorized version, and vectorized version optimized by numba/jit.\n",
    "\n",
    "We find that using vectorized operation for calculating euclidean dist is obviously faster, but we can get even faster speedups using numba and JIT"
   ]
  },
  {
   "cell_type": "code",
   "execution_count": 4,
   "metadata": {},
   "outputs": [],
   "source": [
    "@jit(nopython=True)\n",
    "def calc_bmu_metric(vec_1, vec_2):\n",
    "    return np.linalg.norm(vec_1 - vec_2)\n",
    "\n",
    "@jit(nopython=True)\n",
    "def calc_bmu_matrix_iterative(vec, matrix):\n",
    "    res=np.zeros((matrix.shape[0], matrix.shape[1]))\n",
    "    for j in range(matrix.shape[0]):\n",
    "        for i in range(matrix.shape[1]):\n",
    "            res[j, i]=calc_bmu_metric(TEST_INPUT_1, matrix[j, i, :])\n",
    "    return res"
   ]
  },
  {
   "cell_type": "code",
   "execution_count": 5,
   "metadata": {},
   "outputs": [
    {
     "name": "stdout",
     "output_type": "stream",
     "text": [
      "5.84 ms ± 273 µs per loop (mean ± std. dev. of 7 runs, 1 loop each)\n"
     ]
    }
   ],
   "source": [
    "%%timeit\n",
    "\n",
    "calc_bmu_matrix_iterative(TEST_INPUT_1, mat)"
   ]
  },
  {
   "cell_type": "code",
   "execution_count": 6,
   "metadata": {},
   "outputs": [],
   "source": [
    "def calc_bmu_matrix_vectorised(vec_a, matrix):\n",
    "    subtracted_mat = np.multiply(np.ones((matrix.shape[0], matrix.shape[1], INPUT_DIM)), TEST_INPUT_1) - matrix\n",
    "    squared = np.multiply(subtracted_mat, subtracted_mat)\n",
    "    return np.sqrt(np.sum(squared, axis=-1))\n",
    "\n",
    "@jit(nopython=True)\n",
    "def calc_bmu_matrix_vectorised_jit(vec_a, matrix):\n",
    "    subtracted_mat = np.multiply(np.ones((matrix.shape[0], matrix.shape[1], INPUT_DIM)), TEST_INPUT_1) - matrix\n",
    "    squared = np.multiply(subtracted_mat, subtracted_mat)\n",
    "    return np.sqrt(np.sum(squared, axis=-1))"
   ]
  },
  {
   "cell_type": "code",
   "execution_count": 7,
   "metadata": {},
   "outputs": [
    {
     "name": "stdout",
     "output_type": "stream",
     "text": [
      "423 µs ± 31.9 µs per loop (mean ± std. dev. of 7 runs, 1000 loops each)\n"
     ]
    }
   ],
   "source": [
    "%%timeit\n",
    "calc_bmu_matrix_vectorised(TEST_INPUT_1, mat)"
   ]
  },
  {
   "cell_type": "code",
   "execution_count": 8,
   "metadata": {},
   "outputs": [
    {
     "name": "stdout",
     "output_type": "stream",
     "text": [
      "255 µs ± 50.9 µs per loop (mean ± std. dev. of 7 runs, 1 loop each)\n"
     ]
    }
   ],
   "source": [
    "%%timeit\n",
    "calc_bmu_matrix_vectorised_jit(TEST_INPUT_1, mat)"
   ]
  },
  {
   "cell_type": "code",
   "execution_count": 9,
   "metadata": {},
   "outputs": [],
   "source": [
    "np.testing.assert_almost_equal(calc_bmu_matrix_vectorised(TEST_INPUT_1, mat), calc_bmu_matrix_iterative(TEST_INPUT_1, mat))"
   ]
  },
  {
   "cell_type": "markdown",
   "metadata": {},
   "source": [
    "## Making it a class\n",
    "\n",
    "After writing more few functions, the code was best placed into a class where it would evenutally reside (I did not want to accumulate technical debt). I also wrote few test cases for some functions for sanity checking purposes. Actually hand calculating SOM iterations with hard coded weights was going to be quite tedious so i skipped out on this...\n",
    "\n",
    "I did write pytest cases with the idea of running them with python -m pytest in terminal. Please find these in src/test_som.py\n",
    "\n",
    "My test cases and class looks as follows:"
   ]
  },
  {
   "cell_type": "code",
   "execution_count": 11,
   "metadata": {},
   "outputs": [
    {
     "name": "stdout",
     "output_type": "stream",
     "text": [
      "Overwriting src/test_som.py\n"
     ]
    }
   ],
   "source": [
    "%%writefile src/test_som.py\n",
    "\n",
    "import numpy as np\n",
    "from som_network import SomNetwork\n",
    "from som_network_jit import SomNetworkJit\n",
    "\n",
    "class TestSom:\n",
    "    @classmethod\n",
    "    def setup_class(cls):\n",
    "        cls.som_5x5 = SomNetwork(map_size=(5, 5), input_dim=3)\n",
    "        cls.som_20x20 = SomNetwork(map_size=(20, 20), input_dim=3)\n",
    "        cls.input_vec_1 = np.arange(0, 3).reshape((1, -1))\n",
    "        cls.input_vec_2 = np.arange(0, 6).reshape((2, -1))\n",
    "\n",
    "    def test_weights_size(self):\n",
    "        assert self.som_5x5.weights.shape == (5, 5, 3)\n",
    "\n",
    "    def test_neighbourhood_mask(self):\n",
    "        mask = self.som_5x5.get_neighbourhood_mask(point_coord=(1, 1), radius=2)\n",
    "        mask_gt = np.array([[True, True, True, False, False],\n",
    "                            [True, True, True, True, False],\n",
    "                            [True, True, True, False, False],\n",
    "                            [False, True, False, False, False],\n",
    "                            [False, False, False, False, False]])\n",
    "        np.testing.assert_array_equal(mask, mask_gt)\n",
    "\n",
    "    def test_bmu_coord(self):\n",
    "        self.som_20x20.weights[10, 3, :] = np.array([0, 1, 2])\n",
    "        np.testing.assert_almost_equal(self.som_20x20.get_bmu_coord(self.input_vec_1), (10, 3))\n",
    "\n",
    "        self.som_20x20.weights[16, 2, :] = np.array([3, 4, 5])\n",
    "        np.testing.assert_almost_equal(self.som_20x20.get_bmu_coord(self.input_vec_2[1]), (16, 2))\n",
    "\n",
    "    def test_neighbourhood_radius(self):\n",
    "        np.testing.assert_array_equal(self.som_20x20.calc_neighbourhood_radius(5, 20),\n",
    "                                      10 * np.exp(-5 / (20 / np.log(10))))\n",
    "\n",
    "    def test_learning_rate(self):\n",
    "        np.testing.assert_array_equal(self.som_20x20.get_learning_rate(5, 20), 0.1 * np.exp(-(5 / (20 / np.log(10)))))\n",
    "\n",
    "    def test_bmu_matrix(self):\n",
    "        self.som_5x5.weights = np.zeros((5, 5, 3))\n",
    "\n",
    "        # Set 0,0 -> [0,1,2] and 3,3 -> 3, 4, 5\n",
    "        # 3, 3 ->\n",
    "        self.som_5x5.weights[0, 0, :] = np.array([0, 1, 2])\n",
    "        self.som_5x5.weights[3, 3, :] = np.array([3, 4, 5])\n",
    "        answer_array = np.ones((5, 5)) * np.sqrt(np.sum(np.array([0, 1, 4])))\n",
    "        answer_array[0, 0] = np.sqrt(np.sum(np.array([0, 0, 0])))\n",
    "        answer_array[3, 3] = np.sqrt(np.sum(np.array([9, 9, 9])))\n",
    "        np.testing.assert_almost_equal(self.som_5x5.calc_bmu_matrix_vectorised(self.input_vec_1), answer_array)\n",
    "\n",
    "    def test_influence_matrix(self):\n",
    "        neighbourhood_radius = 3\n",
    "        point_coord = (1, 1)\n",
    "        influence_matrix = self.som_5x5.get_influence_matrix(point_coord, neighbourhood_radius)\n",
    "        dist_matrix = np.array([[np.sqrt(2), 1, np.sqrt(2), np.sqrt(5), np.sqrt(10)],\n",
    "                                [1, 0, 1, 2, 3],\n",
    "                                [np.sqrt(2), 1, np.sqrt(2), np.sqrt(5), np.sqrt(10)],\n",
    "                                [np.sqrt(5), 2, np.sqrt(5), np.sqrt(8), np.sqrt(13)],\n",
    "                                [np.sqrt(10), 3, np.sqrt(10), np.sqrt(13), np.sqrt(18)]])\n",
    "        ans = np.array(np.exp(-np.square(dist_matrix) / (2 * np.square(neighbourhood_radius))))\n",
    "        np.testing.assert_almost_equal(ans, influence_matrix)"
   ]
  },
  {
   "cell_type": "code",
   "execution_count": 12,
   "metadata": {},
   "outputs": [],
   "source": [
    "from tqdm import tqdm\n",
    "import numpy as np\n",
    "\n",
    "\n",
    "class SomNetwork:\n",
    "    def __init__(self, map_size=(10, 10), input_dim=3):\n",
    "        \"\"\"Kohonen's Self Organising Map Class.\n",
    "\n",
    "        This class implements the SOM in a mostly vectorized way in numpy.\n",
    "\n",
    "        :param map_size (int, int): The size of the weights map of the SOM network\n",
    "        :param input_dim (int): The dimension of the input vector\n",
    "        \"\"\"\n",
    "        self.weights = np.random.random(size=(map_size[0], map_size[1], input_dim)).astype(np.float64)\n",
    "        self.init_rad = max(map_size[0], map_size[1]) / 2\n",
    "        self.init_learning_rate = 0.1\n",
    "        self.fitted = False\n",
    "\n",
    "    def calc_bmu_matrix_vectorised(self, vec_a):\n",
    "        \"\"\"Calculates the BMU euclidean distance from the input vector for each node on the SOM map.\n",
    "\n",
    "        :param vec_a (np.array): The input vector vec_a\n",
    "        :return: np.array matrix for the euclidean distance from the input vector for each node on the SOM map\n",
    "        \"\"\"\n",
    "        subtracted_mat = np.multiply(\n",
    "            np.ones((self.weights.shape[0], self.weights.shape[1], self.weights.shape[2])), vec_a) - self.weights\n",
    "        squared = np.multiply(subtracted_mat, subtracted_mat)\n",
    "        return np.sqrt(np.sum(squared, axis=-1))\n",
    "\n",
    "    def get_bmu_coord(self, vec_a):\n",
    "        \"\"\"Gets the BMU coord from the self.weights matrix based on the input vector vec_a\n",
    "\n",
    "        :param vec_a (np.array):\n",
    "        :return: (int, int) coordinates of the BMU of the SOM weights\n",
    "        \"\"\"\n",
    "        bmu_matrix = self.calc_bmu_matrix_vectorised(vec_a)\n",
    "        # Returns the flattened argmin index\n",
    "        bmu_index = np.argmin(bmu_matrix, axis=None)\n",
    "        # Need to get the 0th and 1st indexes from the flattened\n",
    "        bmu_index_0 = bmu_index // self.weights.shape[0]\n",
    "        bmu_index_1 = bmu_index % self.weights.shape[0]\n",
    "        return (bmu_index_0, bmu_index_1)\n",
    "\n",
    "    def get_time_const(self, n_iterations):\n",
    "        \"\"\"Calculates the time const based on the iteration number\"\"\"\n",
    "        return n_iterations / np.log(self.init_rad)\n",
    "\n",
    "    def calc_neighbourhood_radius(self, iteration_no, n_iterations):\n",
    "        \"\"\" Calculates the the neighbourhood radius\n",
    "\n",
    "        :param iteration_no (int): The iteration number\n",
    "        :param n_iterations (int): the number of iterations\n",
    "        :return: float of neighbourhood radius\n",
    "        \"\"\"\n",
    "        return self.init_rad * np.exp(-(iteration_no / self.get_time_const(n_iterations)))\n",
    "\n",
    "    def get_neighbourhood_mask(self, point_coord, radius):\n",
    "        \"\"\" Gets the neighbour radius mask for a speicifed point_coord\n",
    "\n",
    "        :param point_coord tuple(int,int): the center coordinates to get the neighbour radius from\n",
    "        :param radius: the radius to get the mask from\n",
    "        :return: np.array binary mask of points which are True for radius dist away from point_coord\n",
    "        \"\"\"\n",
    "        y, x = np.ogrid[-point_coord[0]:self.weights.shape[0] - point_coord[0],\n",
    "               -point_coord[1]:self.weights.shape[1] - point_coord[1]]\n",
    "        mask = x * x + y * y <= radius * radius\n",
    "        return mask\n",
    "\n",
    "    def get_learning_rate(self, iteration_no, n_iterations):\n",
    "        \"\"\" Returns the learning rate from the iteration_no and n_iterations\n",
    "\n",
    "        :param iteration_no(int): The iteration number\n",
    "        :param n_iterations(int): The number of iterations\n",
    "        :return: float of the learning rate\n",
    "        \"\"\"\n",
    "        return self.init_learning_rate * np.exp(-(iteration_no / self.get_time_const(n_iterations)))\n",
    "\n",
    "    def get_influence_matrix(self, point_coord, neighbourhood_radius):\n",
    "        \"\"\"Calculates and returns the influence matrix from a specified point_coord and neighbourhood radius\n",
    "\n",
    "        :param point_coord(tuple(int, int)): the point coordinates to calculate the influence matrix from\n",
    "        :param neighbourhood_radius (int): the neighbourhood radius\n",
    "        :return: np.array of the influence numbers for each point in the matrix\n",
    "        \"\"\"\n",
    "        index_matrix = np.indices((self.weights.shape[0], self.weights.shape[1]))\n",
    "        influence_matrix = np.square(point_coord[0] - index_matrix[0]) + np.square(point_coord[1] - index_matrix[1])\n",
    "        return np.exp(-(influence_matrix / (2 * np.square(neighbourhood_radius))))\n",
    "\n",
    "    def update_weights(self, input_vec, iteration_no, n_iterations):\n",
    "        \"\"\" Update the weights according to Kohonen's map. A binary mask is used mask out all elements outside the\n",
    "        neighbourhood radius. This is multiplied by the influence matrix so that any elements outside the radius are\n",
    "        unaffected by the weight updates.\n",
    "\n",
    "        :param input_vec (np.array dim=1): the input vector\n",
    "        :param iteration_no (int): the iteration number\n",
    "        :param n_iterations (int): the total number of iterations\n",
    "        :return: the weights matrix\n",
    "        \"\"\"\n",
    "        bmu_coord = self.get_bmu_coord(input_vec)\n",
    "        radius = self.calc_neighbourhood_radius(iteration_no, n_iterations)\n",
    "\n",
    "        # We can use the mask times the influence matrix to set the new weights. Zero'd influence means no change\n",
    "        mask = self.get_neighbourhood_mask(bmu_coord, radius).astype(int)\n",
    "        influence_masked = self.get_influence_matrix(bmu_coord, radius)\n",
    "        subtracted_mat = np.multiply(np.ones((self.weights.shape[0], self.weights.shape[1], self.weights.shape[2])),\n",
    "                                     input_vec) - self.weights\n",
    "        lr_mult_influence_mask = np.multiply(self.get_learning_rate(iteration_no, n_iterations),\n",
    "                                             influence_masked[:, :, None])\n",
    "        second_term = np.multiply(lr_mult_influence_mask, subtracted_mat)\n",
    "        self.weights = np.add(self.weights, second_term)\n",
    "\n",
    "    def fit(self, input_matrix, n_iterations):\n",
    "        \"\"\"Fit the weights of the SOM network by iteratively looping through the matrix row by row for n_iterations.\n",
    "\n",
    "        :param input_matrix (np.array): input matrix\n",
    "        :param n_iterations (int): The number of iterations\n",
    "        :return: np.array of the fitted SOM weights\n",
    "        \"\"\"\n",
    "\n",
    "        assert not self.fitted, 'SOM has already been fitted'\n",
    "\n",
    "        # iterate through each input vector\n",
    "        for iteration_no in tqdm(range(n_iterations)):\n",
    "            for input_vector in input_matrix:\n",
    "                self.update_weights(input_vector, iteration_no, n_iterations)\n",
    "        self.fitted = True\n",
    "        return self.weights"
   ]
  },
  {
   "cell_type": "code",
   "execution_count": 13,
   "metadata": {},
   "outputs": [
    {
     "name": "stderr",
     "output_type": "stream",
     "text": [
      "100%|███████████████████████████████████████████████████████████████████████████████████████████████████████████████████████████████████████████████████████████████████████████████████████████████████████████████████████████████████| 100/100 [00:00<00:00, 231.46it/s]\n"
     ]
    },
    {
     "name": "stdout",
     "output_type": "stream",
     "text": [
      "Wall time: 469 ms\n"
     ]
    },
    {
     "data": {
      "text/plain": [
       "<matplotlib.image.AxesImage at 0x2236f9353c8>"
      ]
     },
     "execution_count": 13,
     "metadata": {},
     "output_type": "execute_result"
    },
    {
     "data": {
      "image/png": "[encoded data removed]",
      "text/plain": [
       "<Figure size 432x288 with 1 Axes>"
      ]
     },
     "metadata": {
      "needs_background": "light"
     },
     "output_type": "display_data"
    }
   ],
   "source": [
    "%%time\n",
    "\n",
    "test_mat = np.random.random((20, 3))\n",
    "som = SomNetwork(map_size=(10, 10), input_dim=3)\n",
    "weights = som.fit(test_mat, 100)\n",
    "plt.imshow(weights)"
   ]
  },
  {
   "cell_type": "code",
   "execution_count": 14,
   "metadata": {},
   "outputs": [
    {
     "name": "stderr",
     "output_type": "stream",
     "text": [
      "100%|██████████████████████████████████████████████████████████████████████████████████████████████████████████████████████████████████████████████████████████████████████████████████████████████████████████████████████████████████| 1000/1000 [00:31<00:00, 31.78it/s]\n"
     ]
    },
    {
     "name": "stdout",
     "output_type": "stream",
     "text": [
      "Wall time: 31.5 s\n"
     ]
    },
    {
     "data": {
      "text/plain": [
       "<matplotlib.image.AxesImage at 0x2236f824748>"
      ]
     },
     "execution_count": 14,
     "metadata": {},
     "output_type": "execute_result"
    },
    {
     "data": {
      "image/png": "[encoded data removed]",
      "text/plain": [
       "<Figure size 432x288 with 1 Axes>"
      ]
     },
     "metadata": {
      "needs_background": "light"
     },
     "output_type": "display_data"
    }
   ],
   "source": [
    "%%time\n",
    "\n",
    "test_mat = np.random.random((20,3))\n",
    "som = SomNetwork(map_size=(100, 100), input_dim=3)\n",
    "weights = som.fit(test_mat, 1000)\n",
    "plt.imshow(weights)"
   ]
  },
  {
   "cell_type": "markdown",
   "metadata": {},
   "source": [
    "## Code Profiling\n",
    "\n",
    "From our following code profile, the following functions take all the time most the time comes from :\n",
    "\n",
    "    ncalls  tottime  percall  cumtime  percall filename:lineno(function)\n",
    "    10000    2.838    0.000   10.715    0.001 <ipython-input-11-548778fac8c1>:89(update_weights)\n",
    "    10000    0.065    0.000    3.829    0.000 <ipython-input-11-548778fac8c1>:30(get_bmu_coord)\n",
    "    10000    1.384    0.000    3.582    0.000 <ipython-input-11-548778fac8c1>:19(calc_bmu_matrix_vectorised)\n",
    "    10000    2.246    0.000    2.510    0.000 <ipython-input-11-548778fac8c1>:78(get_influence_matrix)\n",
    "    \n",
    "    \n",
    "The calc_bmu_matrix_vectorized and get_influence_matrix functions are all run within the update_weights function. These two functions account for 54% of the cpu time. Optimizing this would be hugely beneficial"
   ]
  },
  {
   "cell_type": "code",
   "execution_count": 18,
   "metadata": {},
   "outputs": [
    {
     "name": "stderr",
     "output_type": "stream",
     "text": [
      "100%|██████████████████████████████████████████████████████████████████████████████████████████████████████████████████████████████████████████████████████████████████████████████████████████████████████████████████████████████████| 1000/1000 [00:33<00:00, 29.86it/s]\n"
     ]
    },
    {
     "name": "stdout",
     "output_type": "stream",
     "text": [
      " "
     ]
    },
    {
     "data": {
      "text/plain": [
       "         1171398 function calls (1171397 primitive calls) in 33.495 seconds\n",
       "\n",
       "   Ordered by: cumulative time\n",
       "\n",
       "   ncalls  tottime  percall  cumtime  percall filename:lineno(function)\n",
       "        1    0.000    0.000   33.495   33.495 {built-in method builtins.exec}\n",
       "        1    0.000    0.000   33.495   33.495 <string>:1(<module>)\n",
       "        1    0.140    0.140   33.494   33.494 <ipython-input-12-548778fac8c1>:112(fit)\n",
       "    20000    8.410    0.000   32.802    0.002 <ipython-input-12-548778fac8c1>:89(update_weights)\n",
       "    20000    0.221    0.000   11.850    0.001 <ipython-input-12-548778fac8c1>:30(get_bmu_coord)\n",
       "    20000    4.474    0.000   11.064    0.001 <ipython-input-12-548778fac8c1>:19(calc_bmu_matrix_vectorised)\n",
       "    20000    6.968    0.000    7.753    0.000 <ipython-input-12-548778fac8c1>:78(get_influence_matrix)\n",
       "    20000    0.109    0.000    6.125    0.000 fromnumeric.py:1966(sum)\n",
       "    20000    0.135    0.000    5.994    0.000 fromnumeric.py:69(_wrapreduction)\n",
       "    20000    5.813    0.000    5.813    0.000 {method 'reduce' of 'numpy.ufunc' objects}\n",
       "    20000    1.439    0.000    3.132    0.000 <ipython-input-12-548778fac8c1>:57(get_neighbourhood_mask)\n",
       "    20000    1.294    0.000    1.693    0.000 index_tricks.py:147(__getitem__)\n",
       "    40000    0.099    0.000    1.098    0.000 numeric.py:175(ones)\n",
       "    40000    0.870    0.000    0.870    0.000 {built-in method numpy.copyto}\n",
       "    20000    0.549    0.000    0.785    0.000 numeric.py:1902(indices)\n",
       "    20000    0.050    0.000    0.564    0.000 fromnumeric.py:1110(argmin)\n",
       "     1001    0.011    0.000    0.547    0.001 std.py:1051(__iter__)\n",
       "      277    0.002    0.000    0.528    0.002 std.py:1379(display)\n",
       "    20000    0.043    0.000    0.514    0.000 fromnumeric.py:54(_wrapfunc)\n",
       "      277    0.002    0.000    0.483    0.002 std.py:302(print_status)\n",
       "      277    0.003    0.000    0.481    0.002 std.py:296(fp_write)\n",
       "    20000    0.452    0.000    0.452    0.000 {method 'argmin' of 'numpy.ndarray' objects}\n",
       "      279    0.001    0.000    0.399    0.001 ansitowin32.py:40(write)\n",
       "      279    0.001    0.000    0.399    0.001 ansitowin32.py:160(write)\n",
       "      279    0.005    0.000    0.397    0.001 ansitowin32.py:177(write_and_convert)\n",
       "      279    0.003    0.000    0.387    0.001 ansitowin32.py:193(write_plain_text)\n",
       "    20000    0.222    0.000    0.359    0.000 <ipython-input-12-548778fac8c1>:48(calc_neighbourhood_radius)\n",
       "    20000    0.190    0.000    0.340    0.000 <ipython-input-12-548778fac8c1>:69(get_learning_rate)\n",
       "    20001    0.325    0.000    0.325    0.000 {method 'astype' of 'numpy.ndarray' objects}\n",
       "      555    0.007    0.000    0.318    0.001 iostream.py:336(flush)\n",
       "    40000    0.287    0.000    0.287    0.000 <ipython-input-12-548778fac8c1>:44(get_time_const)\n",
       "     1666    0.009    0.000    0.287    0.000 iostream.py:197(schedule)\n",
       "    80000    0.278    0.000    0.278    0.000 {built-in method numpy.arange}\n",
       "     1666    0.266    0.000    0.266    0.000 socket.py:342(send)\n",
       "    20000    0.065    0.000    0.228    0.000 index_tricks.py:169(<listcomp>)\n",
       "    60000    0.190    0.000    0.190    0.000 {built-in method numpy.empty}\n",
       "      556    0.005    0.000    0.149    0.000 threading.py:534(wait)\n",
       "      278    0.004    0.000    0.146    0.001 iostream.py:384(write)\n",
       "      503    0.004    0.000    0.142    0.000 threading.py:264(wait)\n",
       "     4235    0.138    0.000    0.138    0.000 {method 'acquire' of '_thread.lock' objects}\n",
       "   220836    0.080    0.000    0.080    0.000 {built-in method builtins.isinstance}\n",
       "    40000    0.074    0.000    0.074    0.000 {built-in method math.ceil}\n",
       "    40000    0.057    0.000    0.057    0.000 {method 'reshape' of 'numpy.ndarray' objects}\n",
       "      278    0.001    0.000    0.050    0.000 iostream.py:322(_schedule_flush)\n",
       "      277    0.002    0.000    0.042    0.000 std.py:1041(__repr__)\n",
       "      277    0.012    0.000    0.036    0.000 std.py:309(format_meter)\n",
       "    20000    0.035    0.000    0.035    0.000 fromnumeric.py:70(<dictcomp>)\n",
       "   121115    0.029    0.000    0.029    0.000 {built-in method builtins.len}\n",
       "20005/20004    0.019    0.000    0.019    0.000 {built-in method builtins.getattr}\n",
       "    40000    0.014    0.000    0.014    0.000 {method 'append' of 'list' objects}\n",
       "     2213    0.010    0.000    0.013    0.000 {method 'format' of 'str' objects}\n",
       "    20000    0.012    0.000    0.012    0.000 {method 'items' of 'dict' objects}\n",
       "      557    0.002    0.000    0.012    0.000 threading.py:499(__init__)\n",
       "     2221    0.005    0.000    0.011    0.000 threading.py:1092(is_alive)\n",
       "      557    0.006    0.000    0.006    0.000 threading.py:216(__init__)\n",
       "      553    0.002    0.000    0.005    0.000 std.py:226(format_interval)\n",
       "     2222    0.003    0.000    0.005    0.000 threading.py:1050(_wait_for_tstate_lock)\n",
       "      279    0.004    0.000    0.005    0.000 ansitowin32.py:245(convert_osc)\n",
       "      554    0.003    0.000    0.005    0.000 utils.py:205(_is_ascii)\n",
       "     1060    0.005    0.000    0.005    0.000 {built-in method _thread.allocate_lock}\n",
       "      280    0.001    0.000    0.004    0.000 std.py:96(__enter__)\n",
       "        1    0.000    0.000    0.004    0.004 std.py:766(__init__)\n",
       "      277    0.004    0.000    0.004    0.000 std.py:1364(format_dict)\n",
       "        2    0.000    0.000    0.004    0.002 std.py:1213(close)\n",
       "      280    0.002    0.000    0.003    0.000 std.py:88(acquire)\n",
       "      280    0.001    0.000    0.003    0.000 std.py:99(__exit__)\n",
       "      277    0.003    0.000    0.003    0.000 std.py:153(__format__)\n",
       "      280    0.002    0.000    0.003    0.000 std.py:92(release)\n",
       "      278    0.002    0.000    0.003    0.000 iostream.py:309(_is_master_process)\n",
       "     1666    0.002    0.000    0.002    0.000 iostream.py:93(_event_pipe)\n",
       "      277    0.002    0.000    0.002    0.000 {method 'sub' of 're.Pattern' objects}\n",
       "        1    0.000    0.000    0.001    0.001 std.py:502(__new__)\n",
       "        1    0.001    0.001    0.001    0.001 utils.py:229(_environ_cols_windows)\n",
       "        1    0.000    0.000    0.001    0.001 _monitor.py:32(__init__)\n",
       "      558    0.001    0.000    0.001    0.000 {method 'finditer' of 're.Pattern' objects}\n",
       "     5817    0.001    0.000    0.001    0.000 {built-in method builtins.ord}\n",
       "        1    0.000    0.000    0.001    0.001 threading.py:834(start)\n",
       "      280    0.001    0.000    0.001    0.000 {method 'acquire' of '_multiprocessing.SemLock' objects}\n",
       "        2    0.000    0.000    0.001    0.001 std.py:1230(fp_write)\n",
       "      503    0.001    0.000    0.001    0.000 threading.py:252(_acquire_restore)\n",
       "      550    0.001    0.000    0.001    0.000 std.py:267(ema)\n",
       "     2169    0.001    0.000    0.001    0.000 {method 'append' of 'collections.deque' objects}\n",
       "      557    0.001    0.000    0.001    0.000 threading.py:240(__enter__)\n",
       "      557    0.001    0.000    0.001    0.000 threading.py:243(__exit__)\n",
       "        1    0.000    0.000    0.001    0.001 <ipython-input-12-548778fac8c1>:6(__init__)\n",
       "     2225    0.001    0.000    0.001    0.000 threading.py:507(is_set)\n",
       "     1383    0.001    0.000    0.001    0.000 {built-in method builtins.divmod}\n",
       "        2    0.001    0.000    0.001    0.000 {method 'random_sample' of 'mtrand.RandomState' objects}\n",
       "      504    0.000    0.000    0.001    0.000 threading.py:255(_is_owned)\n",
       "      880    0.001    0.000    0.001    0.000 {built-in method time.time}\n",
       "      555    0.001    0.000    0.001    0.000 {built-in method builtins.max}\n",
       "      277    0.001    0.000    0.001    0.000 std.py:146(__init__)\n",
       "      280    0.001    0.000    0.001    0.000 {method 'release' of '_multiprocessing.SemLock' objects}\n",
       "      503    0.000    0.000    0.001    0.000 threading.py:249(_release_save)\n",
       "      280    0.001    0.000    0.001    0.000 {method 'acquire' of '_thread.RLock' objects}\n",
       "      278    0.000    0.000    0.000    0.000 {built-in method nt.getpid}\n",
       "      555    0.000    0.000    0.000    0.000 {built-in method _imp.lock_held}\n",
       "      277    0.000    0.000    0.000    0.000 utils.py:130(__init__)\n",
       "      557    0.000    0.000    0.000    0.000 {method '__enter__' of '_thread.lock' objects}\n",
       "      279    0.000    0.000    0.000    0.000 {built-in method builtins.abs}\n",
       "      277    0.000    0.000    0.000    0.000 utils.py:134(__format__)\n",
       "        1    0.000    0.000    0.000    0.000 {built-in method _thread.start_new_thread}\n",
       "      557    0.000    0.000    0.000    0.000 {method '__exit__' of '_thread.lock' objects}\n",
       "      277    0.000    0.000    0.000    0.000 {method 'update' of 'dict' objects}\n",
       "      285    0.000    0.000    0.000    0.000 {built-in method builtins.hasattr}\n",
       "        1    0.000    0.000    0.000    0.000 std.py:531(_decr_instances)\n",
       "      280    0.000    0.000    0.000    0.000 {method 'release' of '_thread.RLock' objects}\n",
       "      505    0.000    0.000    0.000    0.000 {method 'release' of '_thread.lock' objects}\n",
       "        1    0.000    0.000    0.000    0.000 _monitor.py:50(exit)\n",
       "        1    0.000    0.000    0.000    0.000 __init__.py:47(create_string_buffer)\n",
       "        1    0.000    0.000    0.000    0.000 threading.py:763(__init__)\n",
       "        1    0.000    0.000    0.000    0.000 threading.py:1012(join)\n",
       "        1    0.000    0.000    0.000    0.000 std.py:524(_get_free_pos)\n",
       "        3    0.000    0.000    0.000    0.000 _weakrefset.py:58(__iter__)\n",
       "        1    0.000    0.000    0.000    0.000 utils.py:198(_supports_unicode)\n",
       "        1    0.000    0.000    0.000    0.000 threading.py:513(set)\n",
       "        1    0.000    0.000    0.000    0.000 std.py:527(<genexpr>)\n",
       "        1    0.000    0.000    0.000    0.000 threading.py:358(notify_all)\n",
       "        1    0.000    0.000    0.000    0.000 _weakrefset.py:106(remove)\n",
       "        1    0.000    0.000    0.000    0.000 threading.py:335(notify)\n",
       "        2    0.000    0.000    0.000    0.000 <frozen importlib._bootstrap>:1009(_handle_fromlist)\n",
       "        3    0.000    0.000    0.000    0.000 {method 'remove' of 'set' objects}\n",
       "        2    0.000    0.000    0.000    0.000 _weakrefset.py:81(add)\n",
       "        3    0.000    0.000    0.000    0.000 threading.py:1226(current_thread)\n",
       "        2    0.000    0.000    0.000    0.000 _weakrefset.py:26(__exit__)\n",
       "        2    0.000    0.000    0.000    0.000 ansitowin32.py:28(__getattr__)\n",
       "        1    0.000    0.000    0.000    0.000 utils.py:184(_is_utf)\n",
       "        4    0.000    0.000    0.000    0.000 {method 'add' of 'set' objects}\n",
       "        1    0.000    0.000    0.000    0.000 std.py:286(status_printer)\n",
       "        1    0.000    0.000    0.000    0.000 utils.py:147(__eq__)\n",
       "        2    0.000    0.000    0.000    0.000 _weakrefset.py:20(__enter__)\n",
       "        1    0.000    0.000    0.000    0.000 threading.py:977(_stop)\n",
       "        1    0.000    0.000    0.000    0.000 std.py:1038(__del__)\n",
       "        1    0.000    0.000    0.000    0.000 {built-in method _struct.unpack}\n",
       "        1    0.000    0.000    0.000    0.000 threading.py:728(_newname)\n",
       "        2    0.000    0.000    0.000    0.000 std.py:1048(__hash__)\n",
       "        1    0.000    0.000    0.000    0.000 std.py:604(get_lock)\n",
       "        2    0.000    0.000    0.000    0.000 std.py:1044(_comparable)\n",
       "        2    0.000    0.000    0.000    0.000 _weakrefset.py:16(__init__)\n",
       "        1    0.000    0.000    0.000    0.000 threading.py:1132(daemon)\n",
       "        2    0.000    0.000    0.000    0.000 _weakrefset.py:52(_commit_removals)\n",
       "        1    0.000    0.000    0.000    0.000 {method 'encode' of 'str' objects}\n",
       "        1    0.000    0.000    0.000    0.000 _weakrefset.py:67(__len__)\n",
       "        3    0.000    0.000    0.000    0.000 {built-in method _thread.get_ident}\n",
       "        2    0.000    0.000    0.000    0.000 threading.py:1116(daemon)\n",
       "        1    0.000    0.000    0.000    0.000 _monitor.py:98(report)\n",
       "        1    0.000    0.000    0.000    0.000 utils.py:214(_environ_cols_wrapper)\n",
       "        1    0.000    0.000    0.000    0.000 {method 'difference' of 'set' objects}\n",
       "        1    0.000    0.000    0.000    0.000 {built-in method builtins.min}\n",
       "        1    0.000    0.000    0.000    0.000 {method 'remove' of 'collections.deque' objects}\n",
       "        1    0.000    0.000    0.000    0.000 {built-in method atexit.register}\n",
       "        1    0.000    0.000    0.000    0.000 {built-in method __new__ of type object at 0x00007FFC5B7179A0}\n",
       "        2    0.000    0.000    0.000    0.000 {built-in method builtins.id}\n",
       "        1    0.000    0.000    0.000    0.000 {method 'locked' of '_thread.lock' objects}\n",
       "        1    0.000    0.000    0.000    0.000 {method 'disable' of '_lsprof.Profiler' objects}"
      ]
     },
     "metadata": {},
     "output_type": "display_data"
    }
   ],
   "source": [
    "%%prun -s cumulative\n",
    "\n",
    "test_mat = np.random.random((20,3))\n",
    "som = SomNetwork(map_size=(100, 100), input_dim=3)\n",
    "weights = som.fit(test_mat, 1000)\n"
   ]
  },
  {
   "cell_type": "markdown",
   "metadata": {},
   "source": [
    "### Attempt at optimizing with Numba JIT\n",
    "\n",
    "With our first scenario, it is obvious that Numba and JIT provide good speedups to numpy. Implementing it for an application can be tricky though.\n",
    "\n",
    "I first attempted to optimize making the whole class a jitclass but this proved way too time consuming and involved many code changes. A hacky workaround is to make the functions to optimize a static method. However, this method makes code more messy, as we cannot directly access self instsance variables. There are also a few changes to make it compatible from Numba.\n",
    "\n",
    "I've opted to optimise calc_bmu_matrix_vectorised and get_influence_matrix functions as these contribute the most and is the easiest to change."
   ]
  },
  {
   "cell_type": "code",
   "execution_count": 19,
   "metadata": {},
   "outputs": [],
   "source": [
    "from tqdm import tqdm\n",
    "import numpy as np\n",
    "from numba import jit\n",
    "\n",
    "\n",
    "class SomNetworkJit:\n",
    "    def __init__(self, map_size=(10, 10), input_dim=3):\n",
    "        \"\"\"Kohonen's Self Organising Map Class.\n",
    "\n",
    "        This class implements the SOM in a mostly vectorized way in numpy.\n",
    "\n",
    "        :param map_size (int, int): The size of the weights map of the SOM network\n",
    "        :param input_dim (int): The dimension of the input vector\n",
    "        \"\"\"\n",
    "        self.weights = np.random.random(size=(map_size[0], map_size[1], input_dim)).astype(np.float64)\n",
    "        self.init_rad = max(map_size[0], map_size[1]) / 2\n",
    "        self.init_learning_rate = 0.1\n",
    "        self.fitted = False\n",
    "\n",
    "    @staticmethod\n",
    "    @jit(nopython=True, parallel=False)\n",
    "    def calc_bmu_matrix_vectorised(matrix, vec_a):\n",
    "        \"\"\"Calculates the BMU euclidean distance from the input vector for each node on the SOM map.\n",
    "\n",
    "        :param vec_a (np.array): The input vector vec_a\n",
    "        :return: np.array matrix for the euclidean distance from the input vector for each node on the SOM map\n",
    "        \"\"\"\n",
    "        subtracted_mat = np.multiply(np.ones((matrix.shape[0], matrix.shape[1], matrix.shape[2])), vec_a) - matrix\n",
    "        squared = np.multiply(subtracted_mat, subtracted_mat)\n",
    "        return np.sqrt(np.sum(squared, axis=-1))\n",
    "\n",
    "    def get_bmu_coord(self, vec_a):\n",
    "        \"\"\"Gets the BMU coord from the self.weights matrix based on the input vector vec_a\n",
    "\n",
    "        :param vec_a (np.array):\n",
    "        :return: (int, int) coordinates of the BMU of the SOM weights\n",
    "        \"\"\"\n",
    "        bmu_matrix = self.calc_bmu_matrix_vectorised(self.weights, vec_a)\n",
    "        # Returns the flattened argmin index\n",
    "        bmu_index = np.argmin(bmu_matrix, axis=None)\n",
    "        # Need to get the 0th and 1st indexes from the flattened\n",
    "        bmu_index_0 = bmu_index // self.weights.shape[0]\n",
    "        bmu_index_1 = bmu_index % self.weights.shape[0]\n",
    "        return (bmu_index_0, bmu_index_1)\n",
    "\n",
    "    def get_time_const(self, n_iterations):\n",
    "        \"\"\"Calculates the time const based on the iteration number\"\"\"\n",
    "        return n_iterations / np.log(self.init_rad)\n",
    "\n",
    "    def calc_neighbourhood_radius(self, iteration_no, n_iterations):\n",
    "        \"\"\" Calculates the the neighbourhood radius\n",
    "\n",
    "        :param iteration_no (int): The iteration number\n",
    "        :param n_iterations (int): the number of iterations\n",
    "        :return: float of neighbourhood radius\n",
    "        \"\"\"\n",
    "        return self.init_rad * np.exp(-(iteration_no / self.get_time_const(n_iterations)))\n",
    "\n",
    "    def get_neighbourhood_mask(self, point_coord, radius):\n",
    "        \"\"\" Gets the neighbour radius mask for a speicifed point_coord\n",
    "\n",
    "        :param point_coord tuple(int,int): the center coordinates to get the neighbour radius from\n",
    "        :param radius: the radius to get the mask from\n",
    "        :return: np.array binary mask of points which are True for radius dist away from point_coord\n",
    "        \"\"\"\n",
    "        y, x = np.ogrid[-point_coord[0]:self.weights.shape[0] - point_coord[0],\n",
    "               -point_coord[1]:self.weights.shape[1] - point_coord[1]]\n",
    "        mask = x * x + y * y <= radius * radius\n",
    "        return mask\n",
    "\n",
    "    def get_learning_rate(self, iteration_no, n_iterations):\n",
    "        \"\"\" Returns the learning rate from the iteration_no and n_iterations\n",
    "\n",
    "        :param iteration_no(int): The iteration number\n",
    "        :param n_iterations(int): The number of iterations\n",
    "        :return: float of the learning rate\n",
    "        \"\"\"\n",
    "        return self.init_learning_rate * np.exp(-(iteration_no / self.get_time_const(n_iterations)))\n",
    "\n",
    "    @staticmethod\n",
    "    @jit(nopython=True)\n",
    "    def get_influence_matrix(matrix, point_coord, neighbourhood_radius):\n",
    "        \"\"\"Calculates and returns the influence matrix from a specified point_coord and neighbourhood radius\n",
    "\n",
    "        :param point_coord(tuple(int, int)): the point coordinates to calculate the influence matrix from\n",
    "        :param neighbourhood_radius (int): the neighbourhood radius\n",
    "        :return: np.array of the influence numbers for each point in the matrix\n",
    "        \"\"\"\n",
    "        influence_matrix = np.zeros((matrix.shape[0], matrix.shape[1]))\n",
    "        # Create index matrix\n",
    "        indices = np.zeros((2, matrix.shape[0], matrix.shape[1]))\n",
    "        for i in range(matrix.shape[0]):\n",
    "            for j in range(matrix.shape[1]):\n",
    "                indices[1, i, j] = j\n",
    "                indices[0, i, j] = i\n",
    "        indices = indices.astype(np.int32)\n",
    "        influence_matrix = np.square(point_coord[0] - indices[0]) + np.square(point_coord[1] - indices[1])\n",
    "        return np.exp(-(influence_matrix / (2 * np.square(neighbourhood_radius))))\n",
    "\n",
    "    def update_weights(self, input_vec, iteration_no, n_iterations):\n",
    "        \"\"\" Update the weights according to Kohonen's map. A binary mask is used mask out all elements outside the\n",
    "        neighbourhood radius. This is multiplied by the influence matrix so that any elements outside the radius are\n",
    "        unaffected by the weight updates.\n",
    "\n",
    "        :param input_vec (np.array dim=1): the input vector\n",
    "        :param iteration_no (int): the iteration number\n",
    "        :param n_iterations (int): the total number of iterations\n",
    "        :return: the weights matrix\n",
    "        \"\"\"\n",
    "        bmu_coord = self.get_bmu_coord(input_vec)\n",
    "        radius = self.calc_neighbourhood_radius(iteration_no, n_iterations)\n",
    "\n",
    "        # We can use the mask times the influence matrix to set the new weights. Zero'd influence means no change\n",
    "        mask = self.get_neighbourhood_mask(bmu_coord, radius).astype(int)\n",
    "        influence_masked = self.get_influence_matrix(self.weights, bmu_coord, radius)\n",
    "        subtracted_mat = np.multiply(np.ones((self.weights.shape[0], self.weights.shape[1], self.weights.shape[2])),\n",
    "                                     input_vec) - self.weights\n",
    "        lr_mult_influence_mask = np.multiply(self.get_learning_rate(iteration_no, n_iterations),\n",
    "                                             influence_masked[:, :, None])\n",
    "        second_term = np.multiply(lr_mult_influence_mask, subtracted_mat)\n",
    "        self.weights = np.add(self.weights, second_term)\n",
    "\n",
    "    def fit(self, input_matrix, n_iterations):\n",
    "        \"\"\"Fit the weights of the SOM network by iteratively looping through the matrix row by row for n_iterations.\n",
    "\n",
    "        :param input_matrix (np.array): input matrix\n",
    "        :param n_iterations (int): The number of iterations\n",
    "        :return: np.array of the fitted SOM weights\n",
    "        \"\"\"\n",
    "\n",
    "        assert not self.fitted, 'SOM has already been fitted'\n",
    "\n",
    "        # iterate through each input vector\n",
    "        for iteration_no in tqdm(range(n_iterations)):\n",
    "            for input_vector in input_matrix:\n",
    "                self.update_weights(input_vector, iteration_no, n_iterations)\n",
    "        self.fitted = True\n",
    "        return self.weights\n"
   ]
  },
  {
   "cell_type": "code",
   "execution_count": 20,
   "metadata": {},
   "outputs": [
    {
     "name": "stderr",
     "output_type": "stream",
     "text": [
      "100%|██████████████████████████████████████████████████████████████████████████████████████████████████████████████████████████████████████████████████████████████████████████████████████████████████████████████████████████████████| 1000/1000 [00:29<00:00, 33.92it/s]\n"
     ]
    },
    {
     "name": "stdout",
     "output_type": "stream",
     "text": [
      "Wall time: 29.5 s\n"
     ]
    },
    {
     "data": {
      "text/plain": [
       "<matplotlib.image.AxesImage at 0x2236e06abc8>"
      ]
     },
     "execution_count": 20,
     "metadata": {},
     "output_type": "execute_result"
    },
    {
     "data": {
      "image/png": "[encoded data removed]",
      "text/plain": [
       "<Figure size 432x288 with 1 Axes>"
      ]
     },
     "metadata": {
      "needs_background": "light"
     },
     "output_type": "display_data"
    }
   ],
   "source": [
    "%%time\n",
    "\n",
    "test_mat = np.random.random((20,3))\n",
    "som = SomNetworkJit(map_size=(100, 100), input_dim=3)\n",
    "weights = som.fit(test_mat, 1000)\n",
    "plt.imshow(weights)"
   ]
  },
  {
   "cell_type": "markdown",
   "metadata": {},
   "source": [
    "## We decreased the time from 33.50s to 29.5s.\n",
    "\n",
    "We can further decrease if we can do the .fit loop in batches instead of per row vector and update the weights per batch."
   ]
  },
  {
   "cell_type": "markdown",
   "metadata": {},
   "source": [
    "## Test cases for Numba JIT version. \n",
    "\n",
    "We use the results from the SomNetwork normal version for an easy way to test, as those results are already tested."
   ]
  },
  {
   "cell_type": "code",
   "execution_count": 21,
   "metadata": {},
   "outputs": [],
   "source": [
    "# %%writefile src/test_som.py -a\n",
    "\n",
    "\n",
    "class TestSomJit:\n",
    "    @classmethod\n",
    "    def setup_class(cls):\n",
    "        cls.som_5x5 = SomNetworkJit(map_size=(5, 5), input_dim=3)\n",
    "        cls.som_5x5_slow = SomNetwork(map_size=(5, 5), input_dim=3)\n",
    "\n",
    "        cls.som_20x20 = SomNetworkJit(map_size=(20, 20), input_dim=3)\n",
    "        cls.som_20x0_slow = SomNetwork(map_size=(5, 5), input_dim=3)\n",
    "\n",
    "        cls.som_20x20 = SomNetworkJit(map_size=(20, 20), input_dim=3)\n",
    "        cls.som_20x20_slow = SomNetwork(map_size=(5, 5), input_dim=3)\n",
    "\n",
    "        cls.som_100x100 = SomNetworkJit(map_size=(20, 20), input_dim=3)\n",
    "        cls.som_100x100_small = SomNetwork(map_size=(20, 20), input_dim=3)\n",
    "\n",
    "        cls.input_vec_1 = np.arange(0, 3).reshape((1, -1))\n",
    "        cls.input_vec_2 = np.arange(0, 6).reshape((2, -1))\n",
    "\n",
    "    def test_weights_size(self):\n",
    "        assert self.som_5x5.weights.shape == (5, 5, 3)\n",
    "\n",
    "    def test_neighbourhood_mask(self):\n",
    "        mask = self.som_5x5.get_neighbourhood_mask(point_coord=(1, 1), radius=2)\n",
    "        mask_gt = np.array([[True, True, True, False, False],\n",
    "                            [True, True, True, True, False],\n",
    "                            [True, True, True, False, False],\n",
    "                            [False, True, False, False, False],\n",
    "                            [False, False, False, False, False]])\n",
    "        np.testing.assert_array_equal(mask, mask_gt)\n",
    "\n",
    "    def test_bmu_coord(self):\n",
    "        self.som_20x20.weights[3, 3, :] = np.array([0, 1, 2])\n",
    "        np.testing.assert_almost_equal(self.som_20x20.get_bmu_coord(self.input_vec_1), (3, 3))\n",
    "\n",
    "    # We can compare that the fitting logic is the same as the original implementation\n",
    "    def compare_with_slow_small(self):\n",
    "        # set the weights the same\n",
    "        self.som_5x5.weights = self.som_5x5_slow.weights\n",
    "        slow = self.som_5x5.fit(input_matrix=self.input_vec_1, n_iterations=5)\n",
    "        jit = self.som_5x5_slow.fit(input_matrix=self.input_vec_1, n_iterations=5)\n",
    "        np.test.assert_almost_equal(slow, jit)\n",
    "\n",
    "    def compare_with_slow_big(self):\n",
    "        # set the weights the same\n",
    "        self.som_20x20.weights = self.som_20x20_slow.weights\n",
    "        slow = self.som_20x20.fit(input_matrix=self.input_vec_1, n_iterations=100)\n",
    "        jit = self.som_20x20_slow.fit(input_matrix=self.input_vec_1, n_iterations=100)\n",
    "        np.test.assert_almost_equal(slow, jit)\n",
    "\n",
    "        self.som_100x100.weights = self.som_100x100_small.weights\n",
    "        slow = self.som_100x100.fit(input_matrix=self.input_vec_1, n_iterations=100)\n",
    "        jit = self.som_100x100_slow.fit(input_matrix=self.input_vec_1, n_iterations=100)\n",
    "        np.test.assert_almost_equal(slow, jit)\n"
   ]
  },
  {
   "cell_type": "markdown",
   "metadata": {},
   "source": [
    "## We've basically productionized the model already, here's how to use it as a API"
   ]
  },
  {
   "cell_type": "code",
   "execution_count": 22,
   "metadata": {},
   "outputs": [
    {
     "name": "stderr",
     "output_type": "stream",
     "text": [
      "100%|██████████████████████████████████████████████████████████████████████████████████████████████████████████████████████████████████████████████████████████████████████████████████████████████████████████████████████████████████| 1000/1000 [00:26<00:00, 38.23it/s]\n"
     ]
    },
    {
     "data": {
      "text/plain": [
       "<matplotlib.image.AxesImage at 0x2236fc1fe08>"
      ]
     },
     "execution_count": 22,
     "metadata": {},
     "output_type": "execute_result"
    },
    {
     "data": {
      "image/png": "[encoded data removed]",
      "text/plain": [
       "<Figure size 432x288 with 1 Axes>"
      ]
     },
     "metadata": {
      "needs_background": "light"
     },
     "output_type": "display_data"
    }
   ],
   "source": [
    "from src.som_network_jit import SomNetworkJit\n",
    "\n",
    "som = SomNetworkJit(map_size=(100, 100), input_dim=3)\n",
    "weights = som.fit(test_mat, 1000)\n",
    "plt.imshow(weights)"
   ]
  },
  {
   "cell_type": "markdown",
   "metadata": {},
   "source": [
    "## Unit tests can be run with python -m pytest from the same directory this notebook resides in."
   ]
  },
  {
   "cell_type": "code",
   "execution_count": null,
   "metadata": {},
   "outputs": [],
   "source": []
  }
 ],
 "metadata": {
  "kernelspec": {
   "display_name": "Python 3",
   "language": "python",
   "name": "python3"
  },
  "language_info": {
   "codemirror_mode": {
    "name": "ipython",
    "version": 3
   },
   "file_extension": ".py",
   "mimetype": "text/x-python",
   "name": "python",
   "nbconvert_exporter": "python",
   "pygments_lexer": "ipython3",
   "version": "3.7.4"
  }
 },
 "nbformat": 4,
 "nbformat_minor": 4
}
